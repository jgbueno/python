{
 "cells": [
  {
   "cell_type": "markdown",
   "metadata": {},
   "source": [
    "# Basic Python 3 Scripting\n",
    "\n",
    "**[Junius Wilhelm G. Bueno](https://dmcsweb.upb.edu.ph/)** <br>\n",
    "Teaching Fellow<br>\n",
    "[Department of Mathematics and Computer Science](https://dmcsweb.upb.edu.ph/)<br>\n",
    "[University of the Philippines Baguio](https://www.upb.edu.ph/)<br>\n",
    "\n",
    "## Contents\n",
    "### [Lesson 1: What is Python](Lesson1.ipynb)\n",
    "### [Lesson 2: Python Objects](Lesson2.ipynb)"
   ]
  }
 ],
 "metadata": {
  "language_info": {
   "name": "python"
  }
 },
 "nbformat": 4,
 "nbformat_minor": 2
}
