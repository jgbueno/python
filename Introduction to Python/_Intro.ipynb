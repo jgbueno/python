{
 "cells": [
  {
   "cell_type": "markdown",
   "metadata": {},
   "source": [
    "# Basic Python 3 Scripting\n",
    "\n",
    "**[Junius Wilhelm G. Bueno](mailto:jgbueno@up.edu.ph)** <br>\n",
    "Teaching Fellow<br>\n",
    "<a href=\"https://dmcsweb.upb.edu.ph/\" target=\"_blank\">Department of Mathematics and Computer Science</a><br>\n",
    "<a href=\"https://www.upb.edu.ph/\" target=\"_blank\">University of the Philippines Baguio</a><br>\n",
    "\n",
    "## Contents\n",
    "### [Lesson I: What is Python](LessonI.ipynb)\n",
    "### Lesson II: Python Objects\n",
    "1. [Variables and Assignment](LessonII.1.ipynb)\n",
    "2. [String Data Type](#b-string-data-type)\n",
    "3. [Numerical Data Types](#c-numerical-data-types)\n",
    "4. [Lists](#d-lists)\n",
    "5. [Tuples](#e-tuple)\n",
    "6. [Sets](#f-set)\n",
    "8. [Dictionary](#g-dictionary)\n",
    "9. [Boolean](#h-boolean)\n",
    "10. [Range](#i-range)\n",
    "### Lesson III. Control Flow\n",
    "1. [If-Else Statements](LessonIII.1.ipynb)\n",
    "2. [For-Loops](LessonIII.2.ipynb)\n",
    "3. [While-Loops](LessonIII.3.ipynb)\n",
    "4. [Match Statements](LessonIII.4.ipynb)\n",
    "5. [Comprehensions](LessonIII.5.ipynb)"
   ]
  }
 ],
 "metadata": {
  "language_info": {
   "name": "python"
  }
 },
 "nbformat": 4,
 "nbformat_minor": 2
}
