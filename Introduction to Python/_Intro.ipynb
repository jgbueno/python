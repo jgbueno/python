{
 "cells": [
  {
   "cell_type": "markdown",
   "metadata": {},
   "source": [
    "# Basic Python 3 Scripting\n",
    "\n",
    "**[Junius Wilhelm G. Bueno](mailto:jgbueno@up.edu.ph)** <br>\n",
    "Teaching Fellow<br>\n",
    "<a href=\"https://dmcsweb.upb.edu.ph/\" target=\"_blank\">Department of Mathematics and Computer Science</a><br>\n",
    "<a href=\"https://www.upb.edu.ph/\" target=\"_blank\">University of the Philippines Baguio</a><br>\n",
    "\n",
    "## Contents\n",
    "### [Lesson 1: What is Python](Lesson1.ipynb)\n",
    "### [Lesson 2: Python Objects](Lesson2.ipynb)"
   ]
  }
 ],
 "metadata": {
  "language_info": {
   "name": "python"
  }
 },
 "nbformat": 4,
 "nbformat_minor": 2
}
