{
 "cells": [
  {
   "cell_type": "markdown",
   "metadata": {},
   "source": [
    "< [Contents](_Intro.ipynb) | [Lesson III.1. If-Else Statement](LessonIII.1.ipynb)  | [Lesson III.3. While-Loops](LessonIII.3.ipynb) >\n",
    "\n",
    "#### **2. For-loops**\n",
    "\n",
    "- set of repeated/iterated instructions\n",
    "\n",
    "        for <variable> in <sequence/range>:\n",
    "            <code block>\n",
    "\n",
    "- $\\texttt{break}$ keyword stops immediate loop containing it\n",
    "\n",
    "- $\\texttt{continue}$ keyword skips the remaining code of current iteration to continue on the next looping array"
   ]
  }
 ],
 "metadata": {
  "language_info": {
   "name": "python"
  }
 },
 "nbformat": 4,
 "nbformat_minor": 2
}
