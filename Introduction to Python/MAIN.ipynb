{
 "cells": [
  {
   "cell_type": "markdown",
   "metadata": {},
   "source": [
    "# Basic Python 3 Scripting\n",
    "\n",
    "**[Junius Wilhelm G. Bueno](mailto:jgbueno@up.edu.ph)** <br>\n",
    "Teaching Fellow<br>\n",
    "<a href=\"https://dmcsweb.upb.edu.ph/\" target=\"_blank\">Department of Mathematics and Computer Science</a><br>\n",
    "<a href=\"https://www.upb.edu.ph/\" target=\"_blank\">University of the Philippines Baguio</a><br>\n",
    "\n",
    "## Contents\n",
    "### [Lesson I: What is Python](LessonI.ipynb)\n",
    "### Lesson II: Python Objects\n",
    "1. [Variables and Assignment](LessonII.1.ipynb)\n",
    "2. [String Data Type](LessonII.2.ipynb)\n",
    "3. [Numerical Data Types](LessonII.3.ipynb)\n",
    "4. [Lists](LessonII.4.ipynb)\n",
    "5. [Tuples](LessonII.5.ipynb)\n",
    "6. [Sets and Binary Operations](LessonII.6.ipynb)\n",
    "7. [Dictionary](LessonII.7.ipynb)\n",
    "8. [Boolean](LessonII.8.ipynb)\n",
    "9. [Range](LessonII.9.ipynb)\n",
    "### Lesson III. Control Flow\n",
    "1. [If-Else Statements](LessonIII.1.ipynb)\n",
    "2. [For-Loops](LessonIII.2.ipynb)\n",
    "3. [While-Loops](LessonIII.3.ipynb)\n",
    "4. [Match Statements](LessonIII.4.ipynb)\n",
    "5. [Comprehensions](LessonIII.5.ipynb)\n",
    "6. [Built-in Functions](LessonIII.6.ipynb)\n",
    "7. [User-defined Functions](LessonIII.7.ipynb)"
   ]
  }
 ],
 "metadata": {
  "language_info": {
   "name": "python"
  }
 },
 "nbformat": 4,
 "nbformat_minor": 2
}
