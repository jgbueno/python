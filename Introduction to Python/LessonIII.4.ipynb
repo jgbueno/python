{
 "cells": [
  {
   "cell_type": "markdown",
   "metadata": {},
   "source": [
    "< [Contents](_Intro.ipynb) | [Lesson III.3. While-Loops](LessonIII.3.ipynb)  | [Lesson III.5. Comprehensions](LessonIII.5.ipynb) >\n",
    "\n",
    "#### **4. Match Statements**\n",
    "\n",
    "- compares inputs to identified case blocks\n",
    "\n",
    "        match <input>:\n",
    "            case <value 1>:\n",
    "                <code block 1>\n",
    "            case <value 2>:\n",
    "                <code block 2>"
   ]
  }
 ],
 "metadata": {
  "language_info": {
   "name": "python"
  }
 },
 "nbformat": 4,
 "nbformat_minor": 2
}
