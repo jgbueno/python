{
 "cells": [
  {
   "cell_type": "markdown",
   "metadata": {},
   "source": [
    "< [Contents](_Intro.ipynb)  [Lesson II.5. Tuples](LessonII.5.ipynb) | [Lesson II.7. Dictionary](LessonII.7.ipynb) >\n",
    "\n",
    "#### **6. Sets and Binary Operations**\n",
    "\n",
    "- store unordered collection and removing duplicates\n",
    "- enclosed by {...}"
   ]
  },
  {
   "cell_type": "code",
   "execution_count": null,
   "metadata": {},
   "outputs": [],
   "source": [
    "{1,2,3,4,5,4,2,3,1,5,6,8,5,7,8,9,4,1,2,4,6,41}"
   ]
  },
  {
   "cell_type": "code",
   "execution_count": null,
   "metadata": {},
   "outputs": [],
   "source": [
    "set([1,2,3,4,5,4,2,3,1,5,6,8,5,7,8,9,4,1,2,4,6,41])"
   ]
  },
  {
   "cell_type": "code",
   "execution_count": null,
   "metadata": {},
   "outputs": [],
   "source": [
    "set(\"BookkEeper\")"
   ]
  },
  {
   "cell_type": "markdown",
   "metadata": {},
   "source": [
    "- union and intersection of sets"
   ]
  },
  {
   "cell_type": "code",
   "execution_count": 1,
   "metadata": {},
   "outputs": [
    {
     "name": "stdout",
     "output_type": "stream",
     "text": [
      "{1, 2, 3, 4, 5, 6, 7, 8, 9, 32, 41, 432}\n",
      "{1, 2, 3, 4, 6, 7, 8, 9}\n"
     ]
    }
   ],
   "source": [
    "set_1 = {1,2,3,4,5,4,2,3,1,5,6,8,5,7,8,9,4,1,2,4,6,41}\n",
    "set_2 = {1,2,4,6,8,4,32,3,4,6,7,1,8,9,432,2,2,4,8,7,4,3}\n",
    "\n",
    "print(set_1.union(set_2))\n",
    "print(set_1.intersection(set_2))"
   ]
  },
  {
   "cell_type": "markdown",
   "metadata": {},
   "source": [
    "Binary operators:\n",
    "\n",
    "- $\\texttt{-}$ set minus\n",
    "- $\\texttt{\\&}$ intersection\n",
    "- $\\texttt{|}$ union \n",
    "- $\\wedge$ symmetric difference\n"
   ]
  },
  {
   "cell_type": "code",
   "execution_count": 5,
   "metadata": {},
   "outputs": [
    {
     "name": "stdout",
     "output_type": "stream",
     "text": [
      "1 {41, 5}\n",
      "2 {1, 2, 3, 4, 6, 7, 8, 9}\n",
      "3 {1, 2, 3, 4, 5, 6, 7, 8, 9, 32, 41, 432}\n",
      "4 {32, 5, 41, 432}\n"
     ]
    }
   ],
   "source": [
    "print(1, set_1 - set_2)\n",
    "print(2, set_1 & set_2)\n",
    "print(3, set_1 | set_2)\n",
    "print(4, set_1 ^ set_2)"
   ]
  },
  {
   "cell_type": "markdown",
   "metadata": {},
   "source": [
    "< [Contents](_Intro.ipynb)  [Lesson II.5. Tuples](LessonII.5.ipynb) | [Lesson II.7. Dictionary](LessonII.7.ipynb) >"
   ]
  }
 ],
 "metadata": {
  "kernelspec": {
   "display_name": "Python 3",
   "language": "python",
   "name": "python3"
  },
  "language_info": {
   "codemirror_mode": {
    "name": "ipython",
    "version": 3
   },
   "file_extension": ".py",
   "mimetype": "text/x-python",
   "name": "python",
   "nbconvert_exporter": "python",
   "pygments_lexer": "ipython3",
   "version": "3.11.5"
  }
 },
 "nbformat": 4,
 "nbformat_minor": 2
}
