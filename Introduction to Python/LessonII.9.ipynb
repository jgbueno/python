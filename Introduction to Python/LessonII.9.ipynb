{
 "cells": [
  {
   "cell_type": "markdown",
   "metadata": {},
   "source": [
    "< [Contents](_Intro.ipynb) | [Lesson II.10. Range](LessonII.10.ipynb) >\n",
    "\n",
    "#### **9. Range**"
   ]
  }
 ],
 "metadata": {
  "language_info": {
   "name": "python"
  }
 },
 "nbformat": 4,
 "nbformat_minor": 2
}
