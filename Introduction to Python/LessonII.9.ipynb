{
 "cells": [
  {
   "cell_type": "markdown",
   "metadata": {},
   "source": [
    "< [Contents](_Intro.ipynb) | [Lesson III: Control Flow - 1. If-Else Statements](LessonIII.1.ipynb) >\n",
    "\n",
    "#### **9. Range**\n",
    "\n",
    "- $\\texttt{range(stop)}$ \n",
    "  - sequence from 0 to $\\texttt{stop-1}$\n",
    "\n",
    "- $\\texttt{range(start,stop)}$ \n",
    "  - sequence from $\\texttt{start}$ to $\\texttt{stop-1}$\n",
    "\n",
    "- $\\texttt{range(start,stop,step)}$ \n",
    "  - sequence from $\\texttt{start}$ up to $\\texttt{stop-1}$ count by $\\texttt{steps}$\n"
   ]
  }
 ],
 "metadata": {
  "language_info": {
   "name": "python"
  }
 },
 "nbformat": 4,
 "nbformat_minor": 2
}
