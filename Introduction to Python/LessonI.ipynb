{
 "cells": [
  {
   "cell_type": "markdown",
   "metadata": {},
   "source": [
    "< [Contents](_Intro.ipynb) | [Lesson II: Python Objects - 1. Variables and Assignment](LessonII.1.ipynb) >\n",
    "\n",
    "### **Lesson I: What is Python?**\n",
    "\n",
    "- an interpreted, interactive, object-oriented programming language\n",
    "\n",
    "- created by **[Guido van Rossum](https://gvanrossum.github.io/)** (1991 version 0.9.0)\n",
    "\n",
    "- named after the BBC show **[Monty Python's Flying Circus](https://en.wikipedia.org/wiki/Monty_Python)**\n",
    "\n",
    "- works on almost all platforms: &emsp; Windows, MacOSX, Linux, Android, ... \n",
    "\n",
    "- open source, some Python distributions:  [Python](https://www.python.org/), [Enthought](https://assets.enthought.com/downloads/), [Anaconda](https://www.anaconda.com/products/individual), [Miniconda](https://docs.conda.io/projects/miniconda/en/latest/) \n",
    " \n",
    "- used for \n",
    "<div align=\"left\">\n",
    "&emsp; Web and Internet Development <br> \n",
    "&emsp; Software Engineering <br> \n",
    "&emsp; Operating System Interface<br> \n",
    "&emsp; Scientific Computing and Data Analysis ...\n",
    "</div>\n",
    "\n",
    "- packages relevant to Math 136 (Introduction to Numerical Analysis) and CMSC 117 (Numerical Methods)\n",
    "<div align=\"left\">\n",
    "&emsp; <a href=\"https://numpy.org/doc/stable/reference/?v=20220215115512\"> NumPy</a> <br>\n",
    "&emsp; <a href=\"https://docs.scipy.org/doc/scipy/reference/?v=20220215115512\"> SciPy</a> <br>\n",
    "&emsp; <a href=\"https://matplotlib.org/stable/users/index.html\"> Matplotlib</a> \n",
    "</div>\n",
    "\n",
    "For more detailes, see [General Python FAQ](https://docs.python.org/3/faq/general.html#what-is-python)\n",
    "\n",
    "< [Contents](_Intro.ipynb) | [Lesson II: Python Objects - 1. Variables and Assignment](LessonII.1.ipynb) >"
   ]
  }
 ],
 "metadata": {
  "language_info": {
   "name": "python"
  }
 },
 "nbformat": 4,
 "nbformat_minor": 2
}
