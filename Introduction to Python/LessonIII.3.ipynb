{
 "cells": [
  {
   "cell_type": "markdown",
   "metadata": {},
   "source": [
    "< [Contents](_Intro.ipynb) | [Lesson III.2. For-Loops](LessonIII.2.ipynb)  | [Lesson III.4. Match Statements](LessonIII.4.ipynb) >\n",
    "\n",
    "#### **3. While-Loops**\n",
    "\n",
    "- block of code that is repeated when as long as a certain logical expression is true\n",
    "\n",
    "While-Loop\n",
    "\n",
    "        while <logical expression>:\n",
    "            <code block>\n",
    "\n",
    "- $\\texttt{CTRl + C}$ to stop infinite loop\n",
    "\n",
    "Do-While-Loop\n",
    "\n",
    "        do{\n",
    "                <code block>\n",
    "            }\n",
    "        while(logical expression)\n",
    "\n",
    "- $\\texttt{break}$ and $\\texttt{continue}$ also works for while-loops"
   ]
  }
 ],
 "metadata": {
  "language_info": {
   "name": "python"
  }
 },
 "nbformat": 4,
 "nbformat_minor": 2
}
