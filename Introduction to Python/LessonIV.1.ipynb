{
 "cells": [
  {
   "cell_type": "markdown",
   "metadata": {},
   "source": [
    "< [Contents](_Intro.ipynb) | [Lesson III.7. User-defined Functions](LessonIII.7.ipynb) | [Lesson IV.2. Matplotlib](LessonIII.6.ipynb) >\n",
    "#### **1. Numpy**\n",
    "\n",
    "See the following link to Numpy documentation: [Numpy](https://numpy.org/doc/stable/reference/routines.html)"
   ]
  }
 ],
 "metadata": {
  "language_info": {
   "name": "python"
  }
 },
 "nbformat": 4,
 "nbformat_minor": 2
}
