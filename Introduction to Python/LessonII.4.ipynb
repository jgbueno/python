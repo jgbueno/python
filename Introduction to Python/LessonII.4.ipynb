{
 "cells": [
  {
   "cell_type": "markdown",
   "metadata": {},
   "source": [
    "< [Contents](_Intro.ipynb) | [Lesson II.3. Numerical Data Types](LessonII.3.ipynb) | [Lesson II.5. Tuples](LessonII.5.ipynb) >\n",
    "\n",
    "#### **4. Lists**\n",
    "\n",
    "- sequential data structure\n",
    "- defined using [...]\n",
    "- can hold any tyoe of data"
   ]
  },
  {
   "cell_type": "code",
   "execution_count": null,
   "metadata": {},
   "outputs": [],
   "source": [
    "sample_list = [\"Math\", 136, \":\", \"Introduction\", \"to\", \"Numerical\", \"Analysis\"]\n",
    "print(sample_list)\n",
    "print(len(sample_list))\n",
    "print(type(sample_list))"
   ]
  },
  {
   "cell_type": "markdown",
   "metadata": {},
   "source": [
    "| Math | 136 | : | Introduction | to | Numerical | Analysis |\n",
    "|:--------:|:-----:|:-----:|:----------------:|:------:|:-------------:|:------------:|\n",
    "| 0 | 1 | 2 |        3       |   4  |      5      |      6     |"
   ]
  },
  {
   "cell_type": "code",
   "execution_count": null,
   "metadata": {},
   "outputs": [],
   "source": [
    "print(1, sample_list[0], type(sample_list[0]))\n",
    "print(2, sample_list[1], type(sample_list[1]))\n",
    "print(3, sample_list[2], type(sample_list[2]))\n",
    "print(4, sample_list[3], type(sample_list[3]))\n",
    "print(5, sample_list[4], type(sample_list[4]))\n",
    "print(6, sample_list[5], type(sample_list[5]))\n",
    "print(7, sample_list[-1])\n",
    "print(8, sample_list[0:5])\n",
    "print(9, sample_list[:2])\n",
    "print(10, sample_list[5:])"
   ]
  },
  {
   "cell_type": "code",
   "execution_count": null,
   "metadata": {},
   "outputs": [],
   "source": [
    "sample_list[0][3]"
   ]
  },
  {
   "cell_type": "markdown",
   "metadata": {},
   "source": [
    "- we can have nest of lists"
   ]
  },
  {
   "cell_type": "code",
   "execution_count": null,
   "metadata": {},
   "outputs": [],
   "source": [
    "new_list = [sample_list[:2], sample_list[2], sample_list[5:]]\n",
    "print(new_list)"
   ]
  },
  {
   "cell_type": "markdown",
   "metadata": {},
   "source": [
    "-  concatenate lists using $\\texttt{+}$"
   ]
  },
  {
   "cell_type": "code",
   "execution_count": null,
   "metadata": {},
   "outputs": [],
   "source": [
    "new = [\"email\",\":\",\"jgbueno\"]\n",
    "new_sample_list = sample_list + new\n",
    "print(new_sample_list)"
   ]
  },
  {
   "cell_type": "markdown",
   "metadata": {},
   "source": [
    "- append, insert, remove"
   ]
  },
  {
   "cell_type": "code",
   "execution_count": null,
   "metadata": {},
   "outputs": [],
   "source": [
    "new_sample_list = sample_list + new\n",
    "new_sample_list.append(\"Junius\")\n",
    "print(new_sample_list)\n",
    "\n",
    "new_sample_list.insert(-2,\"Email\")\n",
    "print(new_sample_list)\n",
    "\n",
    "del new_sample_list[-1]\n",
    "print(new_sample_list)"
   ]
  },
  {
   "cell_type": "markdown",
   "metadata": {},
   "source": [
    "- $\\texttt{list()}$ function turns sequence into list of characters"
   ]
  },
  {
   "cell_type": "code",
   "execution_count": null,
   "metadata": {},
   "outputs": [],
   "source": [
    "list(\"Junius\")"
   ]
  },
  {
   "cell_type": "markdown",
   "metadata": {},
   "source": [
    "< [Contents](_Intro.ipynb) | [Lesson II.3. Numerical Data Types](LessonII.3.ipynb) | [Lesson II.5. Tuples](LessonII.5.ipynb) >"
   ]
  }
 ],
 "metadata": {
  "language_info": {
   "name": "python"
  }
 },
 "nbformat": 4,
 "nbformat_minor": 2
}
