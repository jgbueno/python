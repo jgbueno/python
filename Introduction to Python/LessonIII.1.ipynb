{
 "cells": [
  {
   "cell_type": "markdown",
   "metadata": {},
   "source": [
    "< [Contents](_Intro.ipynb) | [Lesson II.9. Range](LessonII.9.ipynb)  | [Lesson III.2. For-Loops](LessonIII.2.ipynb) >\n",
    "\n",
    "#### **1. If-Else / Branching statement**\n",
    "\n",
    "- executes block of code when conditions are met\n",
    "\n",
    "Simple If Statement\n",
    "\n",
    "        if <Logical Expression>:\n",
    "            <code block 1>\n",
    "\n",
    "If-Else Statement\n",
    "\n",
    "        if <Logical Expression>:\n",
    "            <code block 1>\n",
    "        else:\n",
    "            <code block 2>\n",
    "\n",
    "Extended If-Else Statement\n",
    "\n",
    "        if <Logical Expression 1>:\n",
    "            <code block 1>\n",
    "        elif <Logical Expression 2>:\n",
    "            <code block 2>\n",
    "        elif <Logical Expression 3>:\n",
    "            <code block 3>\n",
    "        else:\n",
    "            <code block 4>\n",
    "\n",
    "\n"
   ]
  }
 ],
 "metadata": {
  "language_info": {
   "name": "python"
  }
 },
 "nbformat": 4,
 "nbformat_minor": 2
}
