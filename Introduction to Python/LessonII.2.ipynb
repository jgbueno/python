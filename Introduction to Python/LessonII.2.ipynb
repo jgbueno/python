{
 "cells": [
  {
   "cell_type": "markdown",
   "metadata": {},
   "source": [
    "< [Contents](_Intro.ipynb) | [Lesson II.1. Variables and Assignment](LessonII.1.ipynb) | [Lesson II.3. Numerical Data Types](LessonII.3.ipynb) >\n",
    "\n",
    "#### **2. String Data Type**\n",
    "\n",
    "- sequence of characters and spaces\n",
    "- written inside '...' or \"...\"\n",
    "- $\\texttt{print}$ is used for output\n",
    "\n",
    "ASCII<br>\n",
    "\"$\\texttt{abcdefghijklmnopqrstuvwxyzABCDEFGHIJKLMNOPQRSTUVWXYZ}$\"<br>\n",
    "\"$\\texttt{0123456789}$\"\n",
    "\n",
    "Whitespaces<br>\n",
    "\"\\t\" for tab and \"\\n\" for newline"
   ]
  },
  {
   "cell_type": "code",
   "execution_count": null,
   "metadata": {},
   "outputs": [],
   "source": [
    "s = \"This is a string.\"\n",
    "print(s)\n",
    "type(s)"
   ]
  },
  {
   "cell_type": "markdown",
   "metadata": {},
   "source": [
    "- $\\texttt{len}()$ indicates the size of the string"
   ]
  },
  {
   "cell_type": "code",
   "execution_count": null,
   "metadata": {},
   "outputs": [],
   "source": [
    "len(s)"
   ]
  },
  {
   "cell_type": "markdown",
   "metadata": {},
   "source": [
    "- indexed to locate character. Index start with 0. One may also consider range of elements by $\\texttt{a:b}$, i.e. from $a$ up to $b-1$ element.\n",
    "\n",
    "| T | h | i | s |   | i | s |   | a |   | s  | t  | r  | i  | n  | g  | . |\n",
    "|---|---|---|---|---|---|---|---|---|---|----|----|----|----|----|----|---|\n",
    "| 0 | 1 | 2 | 3 | 4 | 5 | 6 | 7 | 8 | 9 | 10 | 11 | 12 | 13 | 14 | 15 | 16 |"
   ]
  },
  {
   "cell_type": "code",
   "execution_count": null,
   "metadata": {},
   "outputs": [],
   "source": [
    "s[8]"
   ]
  },
  {
   "cell_type": "code",
   "execution_count": null,
   "metadata": {},
   "outputs": [],
   "source": [
    "s[7:14]"
   ]
  },
  {
   "cell_type": "code",
   "execution_count": null,
   "metadata": {},
   "outputs": [],
   "source": [
    "s[:8]"
   ]
  },
  {
   "cell_type": "code",
   "execution_count": null,
   "metadata": {},
   "outputs": [],
   "source": [
    "s[9:]"
   ]
  },
  {
   "cell_type": "markdown",
   "metadata": {},
   "source": [
    "- concatenate strings using $\\texttt{+}$"
   ]
  },
  {
   "cell_type": "code",
   "execution_count": null,
   "metadata": {},
   "outputs": [],
   "source": [
    "w = \"Math\"\n",
    "p = s + \" \" + w\n",
    "print(p)"
   ]
  },
  {
   "cell_type": "markdown",
   "metadata": {},
   "source": [
    "- duplicate strings and concatenate using $\\texttt{*}$."
   ]
  },
  {
   "cell_type": "code",
   "execution_count": null,
   "metadata": {},
   "outputs": [],
   "source": [
    "m = 5*\"136 \"\n",
    "print(m)"
   ]
  },
  {
   "cell_type": "markdown",
   "metadata": {},
   "source": [
    "- write string in upper case"
   ]
  },
  {
   "cell_type": "code",
   "execution_count": null,
   "metadata": {},
   "outputs": [],
   "source": [
    "w.upper()"
   ]
  },
  {
   "cell_type": "markdown",
   "metadata": {},
   "source": [
    "< [Contents](_Intro.ipynb) | [Lesson II.1. Variables and Assignment](LessonII.1.ipynb) | [Lesson II.3. Numerical Data Types](LessonII.3.ipynb) >"
   ]
  }
 ],
 "metadata": {
  "language_info": {
   "name": "python"
  }
 },
 "nbformat": 4,
 "nbformat_minor": 2
}
