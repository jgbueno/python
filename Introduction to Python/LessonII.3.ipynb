{
 "cells": [
  {
   "cell_type": "markdown",
   "metadata": {},
   "source": [
    "< [Contents](_Intro.ipynb) | [Lesson II.2. String Data Type](LessonII.2.ipynb) | [Lesson II.4. Lists](LessonII.4.ipynb) >\n",
    "\n",
    "#### **3. Numerical Data Types**\n",
    "\n",
    "- **int** for Integers: ..., -2, -1, 0 , 1, 2, ...\n",
    "- **float** for FLoating-point numbers (double format)\n",
    "- **complex** for Complex numbers\n"
   ]
  },
  {
   "cell_type": "code",
   "execution_count": null,
   "metadata": {},
   "outputs": [],
   "source": [
    "type(123)"
   ]
  },
  {
   "cell_type": "code",
   "execution_count": null,
   "metadata": {},
   "outputs": [],
   "source": [
    "type(123.)"
   ]
  },
  {
   "cell_type": "code",
   "execution_count": null,
   "metadata": {},
   "outputs": [],
   "source": [
    "type(1.111111)"
   ]
  },
  {
   "cell_type": "code",
   "execution_count": null,
   "metadata": {},
   "outputs": [],
   "source": [
    "type(1.1 + 2j)"
   ]
  },
  {
   "cell_type": "markdown",
   "metadata": {},
   "source": [
    "- to get the real and imaginary parts of a complex number $\\texttt{z}$, use $\\texttt{z.real}$ and $\\texttt{z.imag}$, respectively."
   ]
  },
  {
   "cell_type": "code",
   "execution_count": null,
   "metadata": {},
   "outputs": [],
   "source": [
    "z = complex(3,4) #equivalent to 3 + 4j\n",
    "print(\"real part of z is\", z.real)\n",
    "print(\"imaginary part of z is\",z.imag)"
   ]
  },
  {
   "cell_type": "markdown",
   "metadata": {},
   "source": [
    "Arithmetic Operators<br>\n",
    "(table copied from [Python Standard Library, Built-in Types](https://docs.python.org/3/library/stdtypes.html#index-5))\n",
    "\n",
    "| Operation       | Result                                                                      | Notes  | Full documentation |\n",
    "|-----------------|-----------------------------------------------------------------------------|--------|--------------------|\n",
    "| x + y           | sum of x and y                                                              |        |                    |\n",
    "| x - y           | difference of x and y                                                       |        |                    |\n",
    "| x * y           | product of x and y                                                          |        |                    |\n",
    "| x / y           | quotient of x and y                                                         |        |                    |\n",
    "| x // y          | floored quotient of x and y                                                 | (1)(2) |                    |\n",
    "| x % y           | remainder of x / y                                                          | (2)    |                    |\n",
    "| -x              | x negated                                                                   |        |                    |\n",
    "| +x              | x unchanged                                                                 |        |                    |\n",
    "| abs(x)          | absolute value or magnitude of x                                            |        | [abs()](https://docs.python.org/3/library/functions.html#abs)              |\n",
    "| int(x)          | x converted to integer                                                      | (3)(6) | [int()](https://docs.python.org/3/library/functions.html#int)              |\n",
    "| float(x)        | x converted to floating point                                               | (4)(6) | [float()](https://docs.python.org/3/library/functions.html#float)            |\n",
    "| c.conjugate()   | conjugate of the complex number c                                           |        |                    |\n",
    "| divmod(x, y)    | the pair (x // y, x % y)                                                    | (2)    | [divmod()](https://docs.python.org/3/library/functions.html#divmod)           |\n",
    "| pow(x, y)       | x to the power y                                                            | (5)    | [pow()](https://docs.python.org/3/library/functions.html#pow)              |\n",
    "| x ** y          | x to the power y                                                            | (5)    |                    |\n",
    "\n",
    "1. Also referred to as integer division. For operands of type $\\texttt{int}$, the result has type $\\texttt{int}$. For operands of type $\\texttt{float}$, the result has type $\\texttt{float}$. In general, the result is a whole integer, though the result’s type is not necessarily int. The result is always rounded towards minus infinity: $\\texttt{1//2}$ is 0, $\\texttt{(-1)//2}$ is -1, $\\texttt{1//(-2)}$ is -1, and $\\texttt{(-1)//(-2)}$ is 0.\n",
    "\n",
    "2. Not for complex numbers. Instead convert to floats using $\\texttt{abs()}$ if appropriate.\n",
    "\n",
    "3. Conversion from $\\texttt{float}$ to $\\texttt{int}$ truncates, discarding the fractional part. \n",
    "\n",
    "4. float also accepts the strings “$\\texttt{nan}$” and “$\\texttt{inf}$” with an optional prefix “$\\texttt{+}$” or “$\\texttt{-}$” for Not a Number ($\\texttt{NaN}$) and positive or negative infinity.\n",
    "\n",
    "5. Python defines $\\texttt{pow(0, 0)}$ and $\\texttt{0 ** 0}$ to be 1, as is common for programming languages.\n",
    "\n",
    "6. The numeric literals accepted include the digits 0 to 9 or any Unicode equivalent."
   ]
  },
  {
   "cell_type": "code",
   "execution_count": null,
   "metadata": {},
   "outputs": [],
   "source": [
    "a = 11 \n",
    "b = 3 \n",
    "c = -4.15\n",
    "z = complex(1.5)\n",
    "print(f\"a = {a}, b = {b}, c = {c}, z = {z}\")\n",
    "\n",
    "print(f\"a + b = {a + b}\")\n",
    "print(f\"a - b = {a - b}\")\n",
    "print(f\"a * b = {a * b}\")\n",
    "print(f\"a / b = {a / b}\")\n",
    "print(f\"a // b = {a // b}\")\n",
    "print(f\"a % b = {a % b}\")\n",
    "print(f\"-a = {-c}\")\n",
    "print(f\"+a = {+c}\")\n",
    "print(f\"abs(a) = {abs(c)}\")\n",
    "print(f\"int(a) = {int(c)}\")\n",
    "print(f\"float(a) = {float(c)}\")\n",
    "print(f\"z.conjugate() = {z.conjugate()}\")\n",
    "print(f\"divmod(a,b) = {divmod(a,b)}\")\n",
    "print(f\"a ** b =  {a ** b}\")\n",
    "print(f\"pow(a,b) =  {pow(a,b)}\")"
   ]
  },
  {
   "cell_type": "markdown",
   "metadata": {},
   "source": [
    "< [Contents](_Intro.ipynb) | [Lesson II.2. String Data Type](LessonII.2.ipynb) | [Lesson II.4. Lists](LessonII.4.ipynb) >"
   ]
  }
 ],
 "metadata": {
  "language_info": {
   "name": "python"
  }
 },
 "nbformat": 4,
 "nbformat_minor": 2
}
