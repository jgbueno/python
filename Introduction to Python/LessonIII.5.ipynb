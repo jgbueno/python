{
 "cells": [
  {
   "cell_type": "markdown",
   "metadata": {},
   "source": [
    "< [Contents](_Intro.ipynb) | [Lesson III.4. Match Statements](LessonIII.4.ipynb)  | [Lesson III.6. Functions](LessonIII.6.ipynb) >\n",
    "\n",
    "#### **5. Comprehensions**\n",
    "\n",
    "- create sequences from other sequences\n",
    "\n",
    "List / Dictionary Comprehension\n",
    "\n",
    "        [<Output> <Input> <Conditions>]\n",
    "        [<Output using variable x> for <x satisfying condition>]"
   ]
  },
  {
   "cell_type": "code",
   "execution_count": 18,
   "metadata": {},
   "outputs": [
    {
     "name": "stdout",
     "output_type": "stream",
     "text": [
      "range(1, 10, 2)\n",
      "[1, 9, 25, 49, 81]\n"
     ]
    }
   ],
   "source": [
    "x = range(1,10,2)\n",
    "print(x)\n",
    "y = [j**2 for j in x]\n",
    "print(y)"
   ]
  },
  {
   "cell_type": "code",
   "execution_count": 21,
   "metadata": {},
   "outputs": [
    {
     "data": {
      "text/plain": [
       "{'a': 2.0, 'b': 3.0, 'c': 4.0}"
      ]
     },
     "execution_count": 21,
     "metadata": {},
     "output_type": "execute_result"
    }
   ],
   "source": [
    "sample = {\"a\": 3, \"b\": 5, \"c\": 7}\n",
    "{k:(v+1)/2 for (k, v) in sample.items()}"
   ]
  }
 ],
 "metadata": {
  "kernelspec": {
   "display_name": "Python 3",
   "language": "python",
   "name": "python3"
  },
  "language_info": {
   "codemirror_mode": {
    "name": "ipython",
    "version": 3
   },
   "file_extension": ".py",
   "mimetype": "text/x-python",
   "name": "python",
   "nbconvert_exporter": "python",
   "pygments_lexer": "ipython3",
   "version": "3.11.5"
  }
 },
 "nbformat": 4,
 "nbformat_minor": 2
}
