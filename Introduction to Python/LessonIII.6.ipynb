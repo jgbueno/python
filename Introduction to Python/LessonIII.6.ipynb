{
 "cells": [
  {
   "cell_type": "markdown",
   "metadata": {},
   "source": [
    "< [Contents](_Intro.ipynb) | [Lesson III.5. Comprehensions](LessonIII.5.ipynb) | [Lesson III.7. User-defined Functions](LessonIII.7.ipynb) >\n",
    "\n",
    "#### **6. Built-in Functions**\n",
    "\n",
    "- $\\texttt{abs(x)}$ returns the absolute value of $\\texttt{x}$. Magnitude of a $\\texttt{x}$ is returned when $\\texttt{x}$ is a complex number.\n",
    "\n",
    "- $\\texttt{complex(x,y)}$ returns the complex number $\\texttt{x + y*1j}$\n",
    "\n",
    "- $\\texttt{divmod(x,y)}$ returns the quotient and the remainder of $\\texttt{x/y}$\n",
    "\n",
    "- $\\texttt{input()}$ reads an input\n",
    "\n",
    "- $\\texttt{float(x), int(x), str(x)}$ converts $\\texttt{x}$ to float, integer, or string.\n",
    "\n",
    "- $\\texttt{len(x)}$ returns the number of elements of $\\texttt{x}$\n",
    "\n",
    "- $\\texttt{max(x)}$ return the largest item in $\\texttt{x}$.\n",
    "\n",
    "- $\\texttt{min(x)}$ returns the smallest item in $\\texttt{x}$\n",
    "\n",
    "- $\\texttt{pow(x,y)}$ returns the value of $x^y$\n",
    "\n",
    "- $\\texttt{range(start, stop, step)}$ returns an immutable sequence discussed in [Lesson II.9](LessonII.9.ipynb)\n",
    "\n",
    "- $\\texttt{sum(x)}$ returns the sum of elements in $\\texttt{x}$\n",
    "\n",
    "- $\\texttt{type(x)}$ returns the type of object $\\texttt{x}$\n",
    "\n",
    "\n",
    "See [Python Standard Library, Built-in Functions](https://docs.python.org/3/library/functions.html#built-in-functions) for more details."
   ]
  }
 ],
 "metadata": {
  "language_info": {
   "name": "python"
  }
 },
 "nbformat": 4,
 "nbformat_minor": 2
}
