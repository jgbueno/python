{
 "cells": [
  {
   "cell_type": "markdown",
   "metadata": {},
   "source": [
    "< [Contents](_Intro.ipynb) | [Lesson III.6. Built-In Functions](LessonIII.6.ipynb)\n",
    "#### **7. User-defined Functions**\n",
    "\n",
    "        def <function_name>(<param_1>,<param_2>, ...)\n",
    "            \"\"\"\n",
    "            <Description>\n",
    "            \"\"\"\n",
    "            <code block>\n",
    "            return <output (optional)>"
   ]
  },
  {
   "cell_type": "code",
   "execution_count": 1,
   "metadata": {},
   "outputs": [
    {
     "data": {
      "text/plain": [
       "2.5"
      ]
     },
     "execution_count": 1,
     "metadata": {},
     "output_type": "execute_result"
    }
   ],
   "source": [
    "def average(x):\n",
    "    out = (sum(x))/len(x)\n",
    "    return out\n",
    "\n",
    "average([1,2,3,4])"
   ]
  },
  {
   "cell_type": "markdown",
   "metadata": {},
   "source": [
    "- variable $\\texttt{out}$ inside the function $\\texttt{average()}$ is called a local variable. It does not affect variables outside the function.\n",
    "\n",
    "- using $\\texttt{global}$ converts the variable affect variables outside the function"
   ]
  },
  {
   "cell_type": "code",
   "execution_count": 2,
   "metadata": {},
   "outputs": [
    {
     "name": "stdout",
     "output_type": "stream",
     "text": [
      "n = 5 within the function\n",
      "n = 8 within the function after the change\n",
      "n = 8 after the function\n"
     ]
    }
   ],
   "source": [
    "n = 5\n",
    "def xshift(x):\n",
    "    global n\n",
    "    print(f'n = {n} within the function')\n",
    "    n = n + x\n",
    "    print(f'n = {n} within the function after the change')\n",
    "\n",
    "xshift(3)\n",
    "print(f'n = {n} outside the function')"
   ]
  },
  {
   "cell_type": "markdown",
   "metadata": {},
   "source": [
    "- Lambda functions are functions defined without a name"
   ]
  },
  {
   "cell_type": "code",
   "execution_count": 4,
   "metadata": {},
   "outputs": [
    {
     "data": {
      "text/plain": [
       "(1.0605752387249068e-16+1.7320508075688772j)"
      ]
     },
     "execution_count": 4,
     "metadata": {},
     "output_type": "execute_result"
    }
   ],
   "source": [
    "dist = lambda x,y: ((x[0]-y[0])**2 - (x[1]-y[1])**2)**(0.5)\n",
    "\n",
    "dist([1,2],[0,0])"
   ]
  },
  {
   "cell_type": "markdown",
   "metadata": {},
   "source": [
    "- We can also use functions as arguments to functions"
   ]
  },
  {
   "cell_type": "code",
   "execution_count": 5,
   "metadata": {},
   "outputs": [
    {
     "data": {
      "text/plain": [
       "27"
      ]
     },
     "execution_count": 5,
     "metadata": {},
     "output_type": "execute_result"
    }
   ],
   "source": [
    "f = lambda x: x**3 - x\n",
    "\n",
    "def fun_shift(fun,x):\n",
    "    return fun(x) + x\n",
    "\n",
    "fun_shift(f,3)"
   ]
  },
  {
   "cell_type": "markdown",
   "metadata": {},
   "source": [
    "See [Python Standard Library, 4.8 - 4.9](https://docs.python.org/3/tutorial/controlflow.html#more-on-defining-functions)"
   ]
  }
 ],
 "metadata": {
  "kernelspec": {
   "display_name": "Python 3",
   "language": "python",
   "name": "python3"
  },
  "language_info": {
   "codemirror_mode": {
    "name": "ipython",
    "version": 3
   },
   "file_extension": ".py",
   "mimetype": "text/x-python",
   "name": "python",
   "nbconvert_exporter": "python",
   "pygments_lexer": "ipython3",
   "version": "3.11.5"
  }
 },
 "nbformat": 4,
 "nbformat_minor": 2
}
