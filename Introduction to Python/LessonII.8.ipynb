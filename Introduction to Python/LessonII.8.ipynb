{
 "cells": [
  {
   "cell_type": "markdown",
   "metadata": {},
   "source": [
    "< [Contents](_Intro.ipynb) | [Lesson II.7. Dictionary](LessonII.7.ipynb) | [Lesson II.9. Range](LessonII.9.ipynb) >\n",
    "\n",
    "#### **8. Boolean**\n",
    "\n",
    "- Boolean operations (copied from [Python Standard Library, Boolean Operations](https://docs.python.org/3/library/stdtypes.html#boolean-operations-and-or-not))\n",
    "\n",
    "| Operation | Result                               | Notes |\n",
    "|-----------|--------------------------------------|-------|\n",
    "| x or y    | if x is true, then x, else y         | (1)   |\n",
    "| x and y   | if x is false, then x, else y        | (2)   |\n",
    "| not x     | if x is false, then True, else False | (3)   |\n",
    "\n",
    "\n",
    "1. This is a short-circuit operator, so it only evaluates the second argument if the first one is false.\n",
    "\n",
    "2. This is a short-circuit operator, so it only evaluates the second argument if the first one is true.\n",
    "\n",
    "3. not has a lower priority than non-Boolean operators, so not a == b is interpreted as not (a == b), and a == not b is a syntax error."
   ]
  },
  {
   "cell_type": "markdown",
   "metadata": {},
   "source": [
    "- Comparison Operations (copied from [Python Standard Library, Boolean Operations](https://docs.python.org/3/library/stdtypes.html#boolean-operations-and-or-not))\n",
    "\n",
    "| Operation | Meaning                 |\n",
    "|-----------|-------------------------|\n",
    "| <         | strictly less than      |\n",
    "| <=        | less than or equal      |\n",
    "| >         | strictly greater than   |\n",
    "| >=        | greater than or equal   |\n",
    "| ==        | equal                   |\n",
    "| !=        | not equal               |\n",
    "| is        | object identity         |\n",
    "| is not    | negated object identity |"
   ]
  }
 ],
 "metadata": {
  "language_info": {
   "name": "python"
  }
 },
 "nbformat": 4,
 "nbformat_minor": 2
}
