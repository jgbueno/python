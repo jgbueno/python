{
 "cells": [
  {
   "cell_type": "markdown",
   "metadata": {},
   "source": [
    "< [Contents](_Intro.ipynb) | [Lesson II.7. Dictionary](LessonII.7.ipynb) | [Lesson II.9. Range](LessonII.9.ipynb) >\n",
    "\n",
    "#### **8. Boolean**"
   ]
  }
 ],
 "metadata": {
  "language_info": {
   "name": "python"
  }
 },
 "nbformat": 4,
 "nbformat_minor": 2
}
