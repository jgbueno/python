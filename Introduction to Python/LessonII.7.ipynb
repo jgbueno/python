{
 "cells": [
  {
   "cell_type": "markdown",
   "metadata": {},
   "source": [
    "< [Contents](_Intro.ipynb) |  [Lesson II.6 Sets](LessonII.6.ipynb) | [Lesson II.8. Boolean](LessonII.8.ipynb) >\n",
    "\n",
    "#### **7. Dictionary**\n",
    "\n",
    "- key-value pairs\n",
    "- indexed by keys (string, number, or tuple (not list))\n",
    "- each key corresponds a value "
   ]
  },
  {
   "cell_type": "code",
   "execution_count": null,
   "metadata": {},
   "outputs": [],
   "source": [
    "my_details = {\"FirstName\":\"Junius Wilhelm\", \"MiddleName\":\"Garcia\",\"SurName\": \"Bueno\", \"Age\":25,\"Affiliation\":\"UP Baguio\", \"Designation\":\"Teaching Fellow\"}\n",
    "my_details"
   ]
  },
  {
   "cell_type": "code",
   "execution_count": null,
   "metadata": {},
   "outputs": [],
   "source": [
    "my_details[\"FirstName\"]"
   ]
  },
  {
   "cell_type": "code",
   "execution_count": null,
   "metadata": {},
   "outputs": [],
   "source": [
    "fullname = my_details[\"FirstName\"] + \" \" + my_details[\"MiddleName\"] + \" \" + my_details[\"SurName\"]\n",
    "fullname"
   ]
  },
  {
   "cell_type": "code",
   "execution_count": null,
   "metadata": {},
   "outputs": [],
   "source": [
    "my_details.keys()"
   ]
  },
  {
   "cell_type": "code",
   "execution_count": null,
   "metadata": {},
   "outputs": [],
   "source": [
    "my_details.values()"
   ]
  },
  {
   "cell_type": "markdown",
   "metadata": {},
   "source": [
    "- redefine element"
   ]
  },
  {
   "cell_type": "code",
   "execution_count": null,
   "metadata": {},
   "outputs": [],
   "source": [
    "my_details[\"Age\"] = 26\n",
    "my_details[\"Age\"]"
   ]
  },
  {
   "cell_type": "markdown",
   "metadata": {},
   "source": [
    "- introduce new dictionary"
   ]
  },
  {
   "cell_type": "code",
   "execution_count": null,
   "metadata": {},
   "outputs": [],
   "source": [
    "my_details.update({\"DateUpdated\":\"02/03/2024\"})\n",
    "my_details"
   ]
  },
  {
   "cell_type": "markdown",
   "metadata": {},
   "source": [
    "- remove a key"
   ]
  },
  {
   "cell_type": "code",
   "execution_count": null,
   "metadata": {},
   "outputs": [],
   "source": [
    "my_details.pop(\"Age\")\n",
    "my_details"
   ]
  },
  {
   "cell_type": "markdown",
   "metadata": {},
   "source": [
    "< [Contents](_Intro.ipynb) |  [Lesson II.6 Sets](LessonII.6.ipynb) | [Lesson II.8. Boolean](LessonII.8.ipynb) >"
   ]
  }
 ],
 "metadata": {
  "language_info": {
   "name": "python"
  }
 },
 "nbformat": 4,
 "nbformat_minor": 2
}
