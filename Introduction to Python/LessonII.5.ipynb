{
 "cells": [
  {
   "cell_type": "markdown",
   "metadata": {},
   "source": [
    "< [Contents](_Intro.ipynb) | [Lesson II.4. Lists](LessonII.4.ipynb)| [Lesson II.6 Sets](LessonII.6.ipynb) >\n",
    "\n",
    "#### **5. Tuples**\n",
    "\n",
    "- immutable, heterogeneous list\n",
    "- enclosed by (...)"
   ]
  },
  {
   "cell_type": "code",
   "execution_count": null,
   "metadata": {},
   "outputs": [],
   "source": [
    "sample_tuple = (1,2,3)\n",
    "print(1, sample_tuple)\n",
    "print(2, sample_tuple[0:2])\n",
    "# sample_tuple[1] = 5 "
   ]
  }
 ],
 "metadata": {
  "language_info": {
   "name": "python"
  }
 },
 "nbformat": 4,
 "nbformat_minor": 2
}
