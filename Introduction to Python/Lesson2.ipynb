{
 "cells": [
  {
   "cell_type": "markdown",
   "metadata": {},
   "source": [
    "< [Contents](_Intro.ipynb) | [Lesson 1: What is Python](Lesson1.ipynb) | [Lesson 3: Python Objects](Lesson3.ipynb) >\n",
    "\n",
    "### **Lesson 2: Python Objects**\n",
    "#### **Contents**\n",
    "<dev align=\"left\">\n",
    "<style>\n",
    "td, th {\n",
    "   border: none!important;\n",
    "}\n",
    "</style>\n",
    "| | |\n",
    "|:-----|:------------|\n",
    "|A. | [Variables and Assignment](#a-variables-and-assignment)|\n",
    "|B. | [String Data Type](#b-string-data-type)|\n",
    "|C. | [Numerical Data Types](#c-numerical-data-types)|\n",
    "|D. | [Lists](#d-lists)|\n",
    "|E. | [Tuples](#e-tuple)|\n",
    "|F. | [Sets](#f-set)|\n",
    "|G. | [Dictionary](#g-dictionary)|\n",
    "|H. | [Boolean](#h-boolean)|\n",
    "|I. | [Range](#i-range)|\n",
    "</dev>"
   ]
  },
  {
   "cell_type": "markdown",
   "metadata": {},
   "source": [
    "#### **A. Variables and Assignment**\n",
    "\n",
    "- variable is a string of characters to store information. They may contain alphanumeric characters, underscores, and are case sensitive.\n",
    "- asignment operator \"**=**\" is used to assign information\n",
    "\n",
    "Examples"
   ]
  },
  {
   "cell_type": "code",
   "execution_count": 28,
   "metadata": {},
   "outputs": [
    {
     "data": {
      "text/plain": [
       "0.5"
      ]
     },
     "execution_count": 28,
     "metadata": {},
     "output_type": "execute_result"
    }
   ],
   "source": [
    "x = 0.5\n",
    "x"
   ]
  },
  {
   "cell_type": "code",
   "execution_count": 29,
   "metadata": {},
   "outputs": [
    {
     "data": {
      "text/plain": [
       "0.2"
      ]
     },
     "execution_count": 29,
     "metadata": {},
     "output_type": "execute_result"
    }
   ],
   "source": [
    "y = 0.2\n",
    "y"
   ]
  },
  {
   "cell_type": "markdown",
   "metadata": {},
   "source": [
    "IPython kernel require $\\texttt{\\%}$ fo specify commands. \n",
    "\n",
    "Example is $\\texttt{\\%whos}$ which lists all the variables."
   ]
  },
  {
   "cell_type": "code",
   "execution_count": 30,
   "metadata": {},
   "outputs": [
    {
     "name": "stdout",
     "output_type": "stream",
     "text": [
      "Variable      Type       Data/Info\n",
      "----------------------------------\n",
      "a             int        11\n",
      "b             int        3\n",
      "c             float      -4.15\n",
      "m             str        136 136 136 136 136 \n",
      "p             str        This is a string. Math\n",
      "s             str        This is a string.\n",
      "sample_list   list       n=7\n",
      "w             str        Math\n",
      "x             float      0.5\n",
      "y             float      0.2\n",
      "z             complex    (1.5+0j)\n"
     ]
    }
   ],
   "source": [
    "%whos"
   ]
  },
  {
   "cell_type": "markdown",
   "metadata": {},
   "source": [
    "<[Lesson 2 Contents](#contents)>\n",
    "#### **B. String Data Type**"
   ]
  },
  {
   "cell_type": "markdown",
   "metadata": {},
   "source": [
    "- sequence of characters and spaces\n",
    "- written inside '...' or \"...\"\n",
    "- $\\texttt{print}$ is used for output\n",
    "\n",
    "ASCII<br>\n",
    "\"$\\texttt{abcdefghijklmnopqrstuvwxyzABCDEFGHIJKLMNOPQRSTUVWXYZ}$\"<br>\n",
    "\"$\\texttt{0123456789}$\"\n",
    "\n",
    "Whitespaces<br>\n",
    "\"\\t\" for tab and \"\\n\" for newline"
   ]
  },
  {
   "cell_type": "code",
   "execution_count": 31,
   "metadata": {},
   "outputs": [
    {
     "name": "stdout",
     "output_type": "stream",
     "text": [
      "This is a string.\n"
     ]
    },
    {
     "data": {
      "text/plain": [
       "str"
      ]
     },
     "execution_count": 31,
     "metadata": {},
     "output_type": "execute_result"
    }
   ],
   "source": [
    "s = \"This is a string.\"\n",
    "print(s)\n",
    "type(s)"
   ]
  },
  {
   "cell_type": "markdown",
   "metadata": {},
   "source": [
    "- $\\texttt{len}()$ indicates the size of the string"
   ]
  },
  {
   "cell_type": "code",
   "execution_count": 32,
   "metadata": {},
   "outputs": [
    {
     "data": {
      "text/plain": [
       "17"
      ]
     },
     "execution_count": 32,
     "metadata": {},
     "output_type": "execute_result"
    }
   ],
   "source": [
    "len(s)"
   ]
  },
  {
   "cell_type": "markdown",
   "metadata": {},
   "source": [
    "- indexed to locate character. Index start with 0. One may also consider range of elements by $\\texttt{a:b}$, i.e. from $a$ up to $b-1$ element.\n",
    "\n",
    "| T | h | i | s |   | i | s |   | a |   | s  | t  | r  | i  | n  | g  | . |\n",
    "|---|---|---|---|---|---|---|---|---|---|----|----|----|----|----|----|---|\n",
    "| 0 | 1 | 2 | 3 | 4 | 5 | 6 | 7 | 8 | 9 | 10 | 11 | 12 | 13 | 14 | 15 | 16 |"
   ]
  },
  {
   "cell_type": "code",
   "execution_count": 33,
   "metadata": {},
   "outputs": [
    {
     "data": {
      "text/plain": [
       "'a'"
      ]
     },
     "execution_count": 33,
     "metadata": {},
     "output_type": "execute_result"
    }
   ],
   "source": [
    "s[8]"
   ]
  },
  {
   "cell_type": "code",
   "execution_count": 34,
   "metadata": {},
   "outputs": [
    {
     "data": {
      "text/plain": [
       "' a stri'"
      ]
     },
     "execution_count": 34,
     "metadata": {},
     "output_type": "execute_result"
    }
   ],
   "source": [
    "s[7:14]"
   ]
  },
  {
   "cell_type": "code",
   "execution_count": 35,
   "metadata": {},
   "outputs": [
    {
     "data": {
      "text/plain": [
       "'This is '"
      ]
     },
     "execution_count": 35,
     "metadata": {},
     "output_type": "execute_result"
    }
   ],
   "source": [
    "s[:8]"
   ]
  },
  {
   "cell_type": "code",
   "execution_count": 36,
   "metadata": {},
   "outputs": [
    {
     "data": {
      "text/plain": [
       "' string.'"
      ]
     },
     "execution_count": 36,
     "metadata": {},
     "output_type": "execute_result"
    }
   ],
   "source": [
    "s[9:]"
   ]
  },
  {
   "cell_type": "markdown",
   "metadata": {},
   "source": [
    "- concatenate strings using $\\texttt{+}$"
   ]
  },
  {
   "cell_type": "code",
   "execution_count": 37,
   "metadata": {},
   "outputs": [
    {
     "name": "stdout",
     "output_type": "stream",
     "text": [
      "This is a string. Math\n"
     ]
    }
   ],
   "source": [
    "w = \"Math\"\n",
    "p = s + \" \" + w\n",
    "print(p)"
   ]
  },
  {
   "cell_type": "markdown",
   "metadata": {},
   "source": [
    "- duplicate strings and concatenate using $\\texttt{*}$."
   ]
  },
  {
   "cell_type": "code",
   "execution_count": 38,
   "metadata": {},
   "outputs": [
    {
     "name": "stdout",
     "output_type": "stream",
     "text": [
      "136 136 136 136 136 \n"
     ]
    }
   ],
   "source": [
    "m = 5*\"136 \"\n",
    "print(m)"
   ]
  },
  {
   "cell_type": "markdown",
   "metadata": {},
   "source": [
    "- write string in upper case"
   ]
  },
  {
   "cell_type": "code",
   "execution_count": 39,
   "metadata": {},
   "outputs": [
    {
     "data": {
      "text/plain": [
       "'MATH'"
      ]
     },
     "execution_count": 39,
     "metadata": {},
     "output_type": "execute_result"
    }
   ],
   "source": [
    "w.upper()"
   ]
  },
  {
   "cell_type": "markdown",
   "metadata": {},
   "source": [
    "<[Lesson 2 Contents](#contents)>\n",
    "#### **C. Numerical Data Types**\n",
    "\n",
    "- **int** for Integers: ..., -2, -1, 0 , 1, 2, ...\n",
    "- **float** for FLoating-point numbers (double format)\n",
    "- **complex** for Complex numbers"
   ]
  },
  {
   "cell_type": "code",
   "execution_count": 40,
   "metadata": {},
   "outputs": [
    {
     "data": {
      "text/plain": [
       "int"
      ]
     },
     "execution_count": 40,
     "metadata": {},
     "output_type": "execute_result"
    }
   ],
   "source": [
    "type(123)"
   ]
  },
  {
   "cell_type": "code",
   "execution_count": 41,
   "metadata": {},
   "outputs": [
    {
     "data": {
      "text/plain": [
       "float"
      ]
     },
     "execution_count": 41,
     "metadata": {},
     "output_type": "execute_result"
    }
   ],
   "source": [
    "type(123.)"
   ]
  },
  {
   "cell_type": "code",
   "execution_count": 42,
   "metadata": {},
   "outputs": [
    {
     "data": {
      "text/plain": [
       "float"
      ]
     },
     "execution_count": 42,
     "metadata": {},
     "output_type": "execute_result"
    }
   ],
   "source": [
    "type(1.111111)"
   ]
  },
  {
   "cell_type": "code",
   "execution_count": 43,
   "metadata": {},
   "outputs": [
    {
     "data": {
      "text/plain": [
       "complex"
      ]
     },
     "execution_count": 43,
     "metadata": {},
     "output_type": "execute_result"
    }
   ],
   "source": [
    "type(1.1 + 2j)"
   ]
  },
  {
   "cell_type": "markdown",
   "metadata": {},
   "source": [
    "- to get the real and imaginary parts of a complex number $\\texttt{z}$, use $\\texttt{z.real}$ and $\\texttt{z.imag}$, respectively."
   ]
  },
  {
   "cell_type": "code",
   "execution_count": 44,
   "metadata": {},
   "outputs": [
    {
     "name": "stdout",
     "output_type": "stream",
     "text": [
      "real part of z is 3.0\n",
      "imaginary part of z is 4.0\n"
     ]
    }
   ],
   "source": [
    "z = complex(3,4) #equivalent to 3 + 4j\n",
    "print(\"real part of z is\", z.real)\n",
    "print(\"imaginary part of z is\",z.imag)"
   ]
  },
  {
   "cell_type": "markdown",
   "metadata": {},
   "source": [
    "Arithmetic Operators<br>\n",
    "(table copied from [Python Standard Library, Built-in Types](https://docs.python.org/3/library/stdtypes.html#index-5))\n",
    "\n",
    "| Operation       | Result                                                                      | Notes  | Full documentation |\n",
    "|-----------------|-----------------------------------------------------------------------------|--------|--------------------|\n",
    "| x + y           | sum of x and y                                                              |        |                    |\n",
    "| x - y           | difference of x and y                                                       |        |                    |\n",
    "| x * y           | product of x and y                                                          |        |                    |\n",
    "| x / y           | quotient of x and y                                                         |        |                    |\n",
    "| x // y          | floored quotient of x and y                                                 | (1)(2) |                    |\n",
    "| x % y           | remainder of x / y                                                          | (2)    |                    |\n",
    "| -x              | x negated                                                                   |        |                    |\n",
    "| +x              | x unchanged                                                                 |        |                    |\n",
    "| abs(x)          | absolute value or magnitude of x                                            |        | [abs()](https://docs.python.org/3/library/functions.html#abs)              |\n",
    "| int(x)          | x converted to integer                                                      | (3)(6) | [int()](https://docs.python.org/3/library/functions.html#int)              |\n",
    "| float(x)        | x converted to floating point                                               | (4)(6) | [float()](https://docs.python.org/3/library/functions.html#float)            |\n",
    "| c.conjugate()   | conjugate of the complex number c                                           |        |                    |\n",
    "| divmod(x, y)    | the pair (x // y, x % y)                                                    | (2)    | [divmod()](https://docs.python.org/3/library/functions.html#divmod)           |\n",
    "| pow(x, y)       | x to the power y                                                            | (5)    | [pow()](https://docs.python.org/3/library/functions.html#pow)              |\n",
    "| x ** y          | x to the power y                                                            | (5)    |                    |\n",
    "\n",
    "1. Also referred to as integer division. For operands of type $\\texttt{int}$, the result has type $\\texttt{int}$. For operands of type $\\texttt{float}$, the result has type $\\texttt{float}$. In general, the result is a whole integer, though the result’s type is not necessarily int. The result is always rounded towards minus infinity: $\\texttt{1//2}$ is 0, $\\texttt{(-1)//2}$ is -1, $\\texttt{1//(-2)}$ is -1, and $\\texttt{(-1)//(-2)}$ is 0.\n",
    "\n",
    "2. Not for complex numbers. Instead convert to floats using $\\texttt{abs()}$ if appropriate.\n",
    "\n",
    "3. Conversion from $\\texttt{float}$ to $\\texttt{int}$ truncates, discarding the fractional part. \n",
    "\n",
    "4. float also accepts the strings “$\\texttt{nan}$” and “$\\texttt{inf}$” with an optional prefix “$\\texttt{+}$” or “$\\texttt{-}$” for Not a Number ($\\texttt{NaN}$) and positive or negative infinity.\n",
    "\n",
    "5. Python defines $\\texttt{pow(0, 0)}$ and $\\texttt{0 ** 0}$ to be 1, as is common for programming languages.\n",
    "\n",
    "6. The numeric literals accepted include the digits 0 to 9 or any Unicode equivalent."
   ]
  },
  {
   "cell_type": "code",
   "execution_count": 45,
   "metadata": {},
   "outputs": [
    {
     "name": "stdout",
     "output_type": "stream",
     "text": [
      "a = 11, b = 3, c = -4.15, z = (1.5+0j)\n",
      "a + b = 14\n",
      "a - b = 8\n",
      "a * b = 33\n",
      "a / b = 3.6666666666666665\n",
      "a // b = 3\n",
      "a % b = 2\n",
      "-a = 4.15\n",
      "+a = -4.15\n",
      "abs(a) = 4.15\n",
      "int(a) = -4\n",
      "float(a) = -4.15\n",
      "z.conjugate() = (1.5-0j)\n",
      "divmod(a,b) = (3, 2)\n",
      "a ** b =  1331\n",
      "pow(a,b) =  1331\n"
     ]
    }
   ],
   "source": [
    "a = 11 \n",
    "b = 3 \n",
    "c = -4.15\n",
    "z = complex(1.5)\n",
    "print(f\"a = {a}, b = {b}, c = {c}, z = {z}\")\n",
    "\n",
    "print(f\"a + b = {a + b}\")\n",
    "print(f\"a - b = {a - b}\")\n",
    "print(f\"a * b = {a * b}\")\n",
    "print(f\"a / b = {a / b}\")\n",
    "print(f\"a // b = {a // b}\")\n",
    "print(f\"a % b = {a % b}\")\n",
    "print(f\"-a = {-c}\")\n",
    "print(f\"+a = {+c}\")\n",
    "print(f\"abs(a) = {abs(c)}\")\n",
    "print(f\"int(a) = {int(c)}\")\n",
    "print(f\"float(a) = {float(c)}\")\n",
    "print(f\"z.conjugate() = {z.conjugate()}\")\n",
    "print(f\"divmod(a,b) = {divmod(a,b)}\")\n",
    "print(f\"a ** b =  {a ** b}\")\n",
    "print(f\"pow(a,b) =  {pow(a,b)}\")"
   ]
  },
  {
   "cell_type": "markdown",
   "metadata": {},
   "source": [
    "<[Lesson 2 Contents](#contents)>\n",
    "#### **D. Lists**\n",
    "\n",
    "- sequential data structure\n",
    "- defined using [...]\n",
    "- can hold any tyoe of data"
   ]
  },
  {
   "cell_type": "code",
   "execution_count": 46,
   "metadata": {},
   "outputs": [
    {
     "name": "stdout",
     "output_type": "stream",
     "text": [
      "['Math', 136, ':', 'Introduction', 'to', 'Numerical', 'Analysis']\n",
      "7\n",
      "<class 'list'>\n"
     ]
    }
   ],
   "source": [
    "sample_list = [\"Math\", 136, \":\", \"Introduction\", \"to\", \"Numerical\", \"Analysis\"]\n",
    "print(sample_list)\n",
    "print(len(sample_list))\n",
    "print(type(sample_list))"
   ]
  },
  {
   "cell_type": "markdown",
   "metadata": {},
   "source": [
    "| Math | 136 | : | Introduction | to | Numerical | Analysis |\n",
    "|:--------:|:-----:|:-----:|:----------------:|:------:|:-------------:|:------------:|\n",
    "| 0 | 1 | 2 |        3       |   4  |      5      |      6     |"
   ]
  },
  {
   "cell_type": "code",
   "execution_count": 53,
   "metadata": {},
   "outputs": [
    {
     "name": "stdout",
     "output_type": "stream",
     "text": [
      "1 Math <class 'str'>\n",
      "2 136 <class 'int'>\n",
      "3 : <class 'str'>\n",
      "4 Introduction <class 'str'>\n",
      "5 to <class 'str'>\n",
      "6 Numerical <class 'str'>\n",
      "7 Analysis\n",
      "8 ['Math', 136, ':', 'Introduction', 'to']\n",
      "9 ['Math', 136]\n",
      "10 ['Numerical', 'Analysis']\n"
     ]
    }
   ],
   "source": [
    "print(1, sample_list[0], type(sample_list[0]))\n",
    "print(2, sample_list[1], type(sample_list[1]))\n",
    "print(3, sample_list[2], type(sample_list[2]))\n",
    "print(4, sample_list[3], type(sample_list[3]))\n",
    "print(5, sample_list[4], type(sample_list[4]))\n",
    "print(6, sample_list[5], type(sample_list[5]))\n",
    "print(7, sample_list[-1])\n",
    "print(8, sample_list[0:5])\n",
    "print(9, sample_list[:2])\n",
    "print(10, sample_list[5:])"
   ]
  },
  {
   "cell_type": "code",
   "execution_count": 7,
   "metadata": {},
   "outputs": [
    {
     "data": {
      "text/plain": [
       "'h'"
      ]
     },
     "execution_count": 7,
     "metadata": {},
     "output_type": "execute_result"
    }
   ],
   "source": [
    "sample_list[0][3]"
   ]
  },
  {
   "cell_type": "markdown",
   "metadata": {},
   "source": [
    "- we can have nest of lists"
   ]
  },
  {
   "cell_type": "code",
   "execution_count": 50,
   "metadata": {},
   "outputs": [
    {
     "name": "stdout",
     "output_type": "stream",
     "text": [
      "[['Math', 136], ':', ['Numerical', 'Analysis']]\n"
     ]
    }
   ],
   "source": [
    "new_list = [sample_list[:2], sample_list[2], sample_list[5:]]\n",
    "print(new_list)"
   ]
  },
  {
   "cell_type": "markdown",
   "metadata": {},
   "source": [
    "-  concatenate lists using $\\texttt{+}$"
   ]
  },
  {
   "cell_type": "code",
   "execution_count": 55,
   "metadata": {},
   "outputs": [],
   "source": [
    "new = [\"email\",\":\",\"jgbueno\"]\n",
    "new_sample_list = sample_list + new\n",
    "print(new_sample_list)"
   ]
  },
  {
   "cell_type": "markdown",
   "metadata": {},
   "source": [
    "- append, insert, remove"
   ]
  },
  {
   "cell_type": "code",
   "execution_count": 66,
   "metadata": {},
   "outputs": [
    {
     "name": "stdout",
     "output_type": "stream",
     "text": [
      "['Math', 136, ':', 'Introduction', 'to', 'Numerical', 'Analysis', 'jgbueno', 'Junius']\n",
      "['Math', 136, ':', 'Introduction', 'to', 'Numerical', 'Analysis', 'Email', 'jgbueno', 'Junius']\n",
      "['Math', 136, ':', 'Introduction', 'to', 'Numerical', 'Analysis', 'Email', 'jgbueno']\n"
     ]
    }
   ],
   "source": [
    "new_sample_list = sample_list + new\n",
    "new_sample_list.append(\"Junius\")\n",
    "print(new_sample_list)\n",
    "\n",
    "new_sample_list.insert(-2,\"Email\")\n",
    "print(new_sample_list)\n",
    "\n",
    "del new_sample_list[-1]\n",
    "print(new_sample_list)\n"
   ]
  },
  {
   "cell_type": "markdown",
   "metadata": {},
   "source": [
    "- $\\texttt{list()}$ function turns sequence into list of characters"
   ]
  },
  {
   "cell_type": "code",
   "execution_count": 67,
   "metadata": {},
   "outputs": [
    {
     "data": {
      "text/plain": [
       "['J', 'u', 'n', 'i', 'u', 's']"
      ]
     },
     "execution_count": 67,
     "metadata": {},
     "output_type": "execute_result"
    }
   ],
   "source": [
    "list(\"Junius\")"
   ]
  },
  {
   "cell_type": "markdown",
   "metadata": {},
   "source": [
    "<[Lesson 2 Contents](#contents)>\n",
    "#### **E. Tuple**\n",
    "\n",
    "- immutable, heterogeneous list\n",
    "- enclosed by (...)\n"
   ]
  },
  {
   "cell_type": "code",
   "execution_count": 71,
   "metadata": {},
   "outputs": [
    {
     "name": "stdout",
     "output_type": "stream",
     "text": [
      "1 (1, 2, 3)\n",
      "2 (1, 2)\n"
     ]
    }
   ],
   "source": [
    "sample_tuple = (1,2,3)\n",
    "print(1, sample_tuple)\n",
    "print(2, sample_tuple[0:2])\n",
    "# sample_tuple[1] = 5 "
   ]
  },
  {
   "cell_type": "markdown",
   "metadata": {},
   "source": [
    "<[Lesson 2 Contents](#contents)>\n",
    "#### **F. Sets**\n",
    "\n",
    "- store unordered collection and removing duplicates\n",
    "- enclosed by {...}"
   ]
  },
  {
   "cell_type": "code",
   "execution_count": 72,
   "metadata": {},
   "outputs": [
    {
     "data": {
      "text/plain": [
       "{1, 2, 3, 4, 5, 6, 7, 8, 9, 41}"
      ]
     },
     "execution_count": 72,
     "metadata": {},
     "output_type": "execute_result"
    }
   ],
   "source": [
    "{1,2,3,4,5,4,2,3,1,5,6,8,5,7,8,9,4,1,2,4,6,41}"
   ]
  },
  {
   "cell_type": "code",
   "execution_count": 73,
   "metadata": {},
   "outputs": [
    {
     "data": {
      "text/plain": [
       "{1, 2, 3, 4, 5, 6, 7, 8, 9, 41}"
      ]
     },
     "execution_count": 73,
     "metadata": {},
     "output_type": "execute_result"
    }
   ],
   "source": [
    "set([1,2,3,4,5,4,2,3,1,5,6,8,5,7,8,9,4,1,2,4,6,41])"
   ]
  },
  {
   "cell_type": "code",
   "execution_count": 75,
   "metadata": {},
   "outputs": [
    {
     "data": {
      "text/plain": [
       "{'B', 'E', 'e', 'k', 'o', 'p', 'r'}"
      ]
     },
     "execution_count": 75,
     "metadata": {},
     "output_type": "execute_result"
    }
   ],
   "source": [
    "set(\"BookkEeper\")"
   ]
  },
  {
   "cell_type": "markdown",
   "metadata": {},
   "source": [
    "- union and intersection of sets"
   ]
  },
  {
   "cell_type": "code",
   "execution_count": 76,
   "metadata": {},
   "outputs": [
    {
     "name": "stdout",
     "output_type": "stream",
     "text": [
      "{1, 2, 3, 4, 5, 6, 7, 8, 9, 32, 41, 432}\n",
      "{1, 2, 3, 4, 6, 7, 8, 9}\n"
     ]
    }
   ],
   "source": [
    "set_1 = {1,2,3,4,5,4,2,3,1,5,6,8,5,7,8,9,4,1,2,4,6,41}\n",
    "set_2 = {1,2,4,6,8,4,32,3,4,6,7,1,8,9,432,2,2,4,8,7,4,3}\n",
    "\n",
    "print(set_1.union(set_2))\n",
    "print(set_1.intersection(set_2))"
   ]
  },
  {
   "cell_type": "markdown",
   "metadata": {},
   "source": [
    "<[Lesson 2 Contents](#contents)>\n",
    "#### **G. Dictionary**\n",
    "\n",
    "- key-value pairs\n",
    "- indexed by keys (string, number, or tuple (not list))\n",
    "- each key corresponds a value "
   ]
  },
  {
   "cell_type": "code",
   "execution_count": 78,
   "metadata": {},
   "outputs": [
    {
     "data": {
      "text/plain": [
       "{'FirstName': 'Junius Wilhelm',\n",
       " 'MiddleName': 'Garcia',\n",
       " 'SurName': 'Bueno',\n",
       " 'Age': 25,\n",
       " 'Affiliation': 'UP Baguio',\n",
       " 'Designation': 'Teaching Fellow'}"
      ]
     },
     "execution_count": 78,
     "metadata": {},
     "output_type": "execute_result"
    }
   ],
   "source": [
    "my_details = {\"FirstName\":\"Junius Wilhelm\", \"MiddleName\":\"Garcia\",\"SurName\": \"Bueno\", \"Age\":25,\"Affiliation\":\"UP Baguio\", \"Designation\":\"Teaching Fellow\"}\n",
    "my_details"
   ]
  },
  {
   "cell_type": "code",
   "execution_count": 80,
   "metadata": {},
   "outputs": [
    {
     "data": {
      "text/plain": [
       "'Junius Wilhelm'"
      ]
     },
     "execution_count": 80,
     "metadata": {},
     "output_type": "execute_result"
    }
   ],
   "source": [
    "my_details[\"FirstName\"]"
   ]
  },
  {
   "cell_type": "code",
   "execution_count": 85,
   "metadata": {},
   "outputs": [
    {
     "data": {
      "text/plain": [
       "'Junius Wilhelm Garcia Bueno'"
      ]
     },
     "execution_count": 85,
     "metadata": {},
     "output_type": "execute_result"
    }
   ],
   "source": [
    "fullname = my_details[\"FirstName\"] + \" \" + my_details[\"MiddleName\"] + \" \" + my_details[\"SurName\"]\n",
    "fullname"
   ]
  },
  {
   "cell_type": "code",
   "execution_count": 89,
   "metadata": {},
   "outputs": [
    {
     "data": {
      "text/plain": [
       "dict_keys(['FirstName', 'MiddleName', 'SurName', 'Age', 'Affiliation', 'Designation'])"
      ]
     },
     "execution_count": 89,
     "metadata": {},
     "output_type": "execute_result"
    }
   ],
   "source": [
    "my_details.keys()"
   ]
  },
  {
   "cell_type": "code",
   "execution_count": 90,
   "metadata": {},
   "outputs": [
    {
     "data": {
      "text/plain": [
       "dict_values(['Junius Wilhelm', 'Garcia', 'Bueno', 25, 'UP Baguio', 'Teaching Fellow'])"
      ]
     },
     "execution_count": 90,
     "metadata": {},
     "output_type": "execute_result"
    }
   ],
   "source": [
    "my_details.values()"
   ]
  },
  {
   "cell_type": "markdown",
   "metadata": {},
   "source": [
    "- redefine element"
   ]
  },
  {
   "cell_type": "code",
   "execution_count": 91,
   "metadata": {},
   "outputs": [
    {
     "data": {
      "text/plain": [
       "26"
      ]
     },
     "execution_count": 91,
     "metadata": {},
     "output_type": "execute_result"
    }
   ],
   "source": [
    "my_details[\"Age\"] = 26\n",
    "my_details[\"Age\"]"
   ]
  },
  {
   "cell_type": "markdown",
   "metadata": {},
   "source": [
    "- introduce new dictionary"
   ]
  },
  {
   "cell_type": "code",
   "execution_count": 92,
   "metadata": {},
   "outputs": [
    {
     "data": {
      "text/plain": [
       "{'FirstName': 'Junius Wilhelm',\n",
       " 'MiddleName': 'Garcia',\n",
       " 'SurName': 'Bueno',\n",
       " 'Age': 26,\n",
       " 'Affiliation': 'UP Baguio',\n",
       " 'Designation': 'Teaching Fellow',\n",
       " 'DateUpdated': '02/03/2024'}"
      ]
     },
     "execution_count": 92,
     "metadata": {},
     "output_type": "execute_result"
    }
   ],
   "source": [
    "my_details.update({\"DateUpdated\":\"02/03/2024\"})\n",
    "my_details"
   ]
  },
  {
   "cell_type": "markdown",
   "metadata": {},
   "source": [
    "- remove a key"
   ]
  },
  {
   "cell_type": "code",
   "execution_count": 93,
   "metadata": {},
   "outputs": [
    {
     "data": {
      "text/plain": [
       "{'FirstName': 'Junius Wilhelm',\n",
       " 'MiddleName': 'Garcia',\n",
       " 'SurName': 'Bueno',\n",
       " 'Affiliation': 'UP Baguio',\n",
       " 'Designation': 'Teaching Fellow',\n",
       " 'DateUpdated': '02/03/2024'}"
      ]
     },
     "execution_count": 93,
     "metadata": {},
     "output_type": "execute_result"
    }
   ],
   "source": [
    "my_details.pop(\"Age\")\n",
    "my_details"
   ]
  },
  {
   "cell_type": "markdown",
   "metadata": {},
   "source": [
    "<[Lesson 2 Contents](#contents)>\n",
    "#### **H. Boolean**"
   ]
  }
 ],
 "metadata": {
  "kernelspec": {
   "display_name": "Python 3",
   "language": "python",
   "name": "python3"
  },
  "language_info": {
   "codemirror_mode": {
    "name": "ipython",
    "version": 3
   },
   "file_extension": ".py",
   "mimetype": "text/x-python",
   "name": "python",
   "nbconvert_exporter": "python",
   "pygments_lexer": "ipython3",
   "version": "3.11.5"
  }
 },
 "nbformat": 4,
 "nbformat_minor": 2
}
