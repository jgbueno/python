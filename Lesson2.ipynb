{
 "cells": [
  {
   "cell_type": "markdown",
   "metadata": {},
   "source": [
    "< [Contents](_Intro.ipynb) | [Lesson 1: What is Python](Lesson1.ipynb) | [Lesson 3: Python Objects](Lesson3.ipynb) >\n",
    "\n",
    "### **Lesson 2: Python Objects**\n",
    "#### **Contents**:\n",
    "[A. Vairables and Assignment](#a-vairables-and-assignment)<br>\n",
    "[B. String](#b-string)<br>\n",
    "[C. Numerical Data Types](#c-numerical-data-types)\n",
    "\n"
   ]
  },
  {
   "cell_type": "markdown",
   "metadata": {},
   "source": [
    "#### **A. Variables and Assignment**\n",
    "\n",
    "- variable is a string of characters to store information. They may contain alphanumeric characters, underscores, and are case sensitive.\n",
    "- asignment operator \"**=**\" is used to assign information\n",
    "\n",
    "Examples"
   ]
  },
  {
   "cell_type": "code",
   "execution_count": 1,
   "metadata": {},
   "outputs": [
    {
     "data": {
      "text/plain": [
       "0.5"
      ]
     },
     "execution_count": 1,
     "metadata": {},
     "output_type": "execute_result"
    }
   ],
   "source": [
    "x = 0.5\n",
    "x"
   ]
  },
  {
   "cell_type": "code",
   "execution_count": 2,
   "metadata": {},
   "outputs": [
    {
     "data": {
      "text/plain": [
       "0.2"
      ]
     },
     "execution_count": 2,
     "metadata": {},
     "output_type": "execute_result"
    }
   ],
   "source": [
    "y = 0.2\n",
    "y"
   ]
  },
  {
   "cell_type": "markdown",
   "metadata": {},
   "source": [
    "IPython kernel require $\\texttt{\\%}$ fo specify commands. \n",
    "\n",
    "Example is $\\texttt{\\%whos}$ which lists all the variables."
   ]
  },
  {
   "cell_type": "code",
   "execution_count": 4,
   "metadata": {},
   "outputs": [
    {
     "name": "stdout",
     "output_type": "stream",
     "text": [
      "Variable   Type     Data/Info\n",
      "-----------------------------\n",
      "x          float    0.5\n",
      "y          float    0.2\n"
     ]
    }
   ],
   "source": [
    "%whos"
   ]
  },
  {
   "cell_type": "markdown",
   "metadata": {},
   "source": [
    "<[Lesson 2 Contents](#contents)>\n",
    "#### **B. String Data Type**"
   ]
  },
  {
   "cell_type": "markdown",
   "metadata": {},
   "source": [
    "- sequence of characters and spaces\n",
    "- written inside '...' or \"...\"\n",
    "- $\\texttt{print}$ is used for output\n",
    "\n",
    "ASCII<br>\n",
    "\"$\\texttt{abcdefghijklmnopqrstuvwxyzABCDEFGHIJKLMNOPQRSTUVWXYZ}$\"<br>\n",
    "\"$\\texttt{0123456789}$\"\n",
    "\n",
    "Whitespaces<br>\n",
    "\"$\\texttt{\\textbackslash t}$\" for tab and \"$\\texttt{\\textbackslash n}$\" for newline"
   ]
  },
  {
   "cell_type": "code",
   "execution_count": 3,
   "metadata": {},
   "outputs": [
    {
     "name": "stdout",
     "output_type": "stream",
     "text": [
      "This is a string.\n"
     ]
    },
    {
     "data": {
      "text/plain": [
       "str"
      ]
     },
     "execution_count": 3,
     "metadata": {},
     "output_type": "execute_result"
    }
   ],
   "source": [
    "s = \"This is a string.\"\n",
    "print(s)\n",
    "type(s)"
   ]
  },
  {
   "cell_type": "markdown",
   "metadata": {},
   "source": [
    "- $\\texttt{len}()$ indicates the size of the string"
   ]
  },
  {
   "cell_type": "code",
   "execution_count": 2,
   "metadata": {},
   "outputs": [
    {
     "data": {
      "text/plain": [
       "17"
      ]
     },
     "execution_count": 2,
     "metadata": {},
     "output_type": "execute_result"
    }
   ],
   "source": [
    "len(s)"
   ]
  },
  {
   "cell_type": "markdown",
   "metadata": {},
   "source": [
    "- indexed to locate character. Index start with 0. One may also consider range of elements by $\\texttt{a:b}$, i.e. from $\\texttt{a}$ up to $\\text{b-1}$ element.\n",
    "\n",
    "| T | h | i | s |   | i | s |   | a |   | s  | t  | r  | i  | n  | g  | . |\n",
    "|---|---|---|---|---|---|---|---|---|---|----|----|----|----|----|----|---|\n",
    "| 0 | 1 | 2 | 3 | 4 | 5 | 6 | 7 | 8 | 9 | 10 | 11 | 12 | 13 | 14 | 15 | 16 |"
   ]
  },
  {
   "cell_type": "code",
   "execution_count": 5,
   "metadata": {},
   "outputs": [
    {
     "data": {
      "text/plain": [
       "'a'"
      ]
     },
     "execution_count": 5,
     "metadata": {},
     "output_type": "execute_result"
    }
   ],
   "source": [
    "s[8]"
   ]
  },
  {
   "cell_type": "code",
   "execution_count": 7,
   "metadata": {},
   "outputs": [
    {
     "data": {
      "text/plain": [
       "' a stri'"
      ]
     },
     "execution_count": 7,
     "metadata": {},
     "output_type": "execute_result"
    }
   ],
   "source": [
    "s[7:14]"
   ]
  },
  {
   "cell_type": "code",
   "execution_count": 8,
   "metadata": {},
   "outputs": [
    {
     "data": {
      "text/plain": [
       "'This is '"
      ]
     },
     "execution_count": 8,
     "metadata": {},
     "output_type": "execute_result"
    }
   ],
   "source": [
    "s[:8]"
   ]
  },
  {
   "cell_type": "code",
   "execution_count": 9,
   "metadata": {},
   "outputs": [
    {
     "data": {
      "text/plain": [
       "' string.'"
      ]
     },
     "execution_count": 9,
     "metadata": {},
     "output_type": "execute_result"
    }
   ],
   "source": [
    "s[9:]"
   ]
  },
  {
   "cell_type": "markdown",
   "metadata": {},
   "source": [
    "- concatenate strings using $\\texttt{+}$"
   ]
  },
  {
   "cell_type": "code",
   "execution_count": 11,
   "metadata": {},
   "outputs": [
    {
     "name": "stdout",
     "output_type": "stream",
     "text": [
      "This is a string. Math\n"
     ]
    }
   ],
   "source": [
    "w = \"Math\"\n",
    "p = s + \" \" + w\n",
    "print(p)"
   ]
  },
  {
   "cell_type": "markdown",
   "metadata": {},
   "source": [
    "- duplicate strings and concatenate using $\\texttt{*}$."
   ]
  },
  {
   "cell_type": "code",
   "execution_count": 13,
   "metadata": {},
   "outputs": [
    {
     "name": "stdout",
     "output_type": "stream",
     "text": [
      "136 136 136 136 136 \n"
     ]
    }
   ],
   "source": [
    "m = 5*\"136 \"\n",
    "print(m)"
   ]
  },
  {
   "cell_type": "markdown",
   "metadata": {},
   "source": [
    "- write string in upper case"
   ]
  },
  {
   "cell_type": "code",
   "execution_count": 15,
   "metadata": {},
   "outputs": [
    {
     "data": {
      "text/plain": [
       "'MATH'"
      ]
     },
     "execution_count": 15,
     "metadata": {},
     "output_type": "execute_result"
    }
   ],
   "source": [
    "w.upper()"
   ]
  },
  {
   "cell_type": "markdown",
   "metadata": {},
   "source": [
    "<[Lesson 2 Contents](#contents)>\n",
    "#### **C. Numerical Data Types**\n",
    "\n",
    "- **int** for Integers: ..., -2, -1, 0 , 1, 2, ...\n",
    "- **float** for FLoating-point numbers (double format)\n",
    "- **complex** for Complex numbers"
   ]
  },
  {
   "cell_type": "code",
   "execution_count": 9,
   "metadata": {},
   "outputs": [
    {
     "data": {
      "text/plain": [
       "int"
      ]
     },
     "execution_count": 9,
     "metadata": {},
     "output_type": "execute_result"
    }
   ],
   "source": [
    "type(123)"
   ]
  },
  {
   "cell_type": "code",
   "execution_count": 10,
   "metadata": {},
   "outputs": [
    {
     "data": {
      "text/plain": [
       "float"
      ]
     },
     "execution_count": 10,
     "metadata": {},
     "output_type": "execute_result"
    }
   ],
   "source": [
    "type(123.)"
   ]
  },
  {
   "cell_type": "code",
   "execution_count": 11,
   "metadata": {},
   "outputs": [
    {
     "data": {
      "text/plain": [
       "float"
      ]
     },
     "execution_count": 11,
     "metadata": {},
     "output_type": "execute_result"
    }
   ],
   "source": [
    "type(1.111111)"
   ]
  },
  {
   "cell_type": "code",
   "execution_count": 12,
   "metadata": {},
   "outputs": [
    {
     "data": {
      "text/plain": [
       "complex"
      ]
     },
     "execution_count": 12,
     "metadata": {},
     "output_type": "execute_result"
    }
   ],
   "source": [
    "type(1.1 + 2j)"
   ]
  },
  {
   "cell_type": "markdown",
   "metadata": {},
   "source": [
    "- to get the real and imaginary parts of a complex number $\\texttt{z}$, use $\\texttt{z.real}$ and $\\texttt{z.imag}$, respectively."
   ]
  },
  {
   "cell_type": "code",
   "execution_count": 20,
   "metadata": {},
   "outputs": [
    {
     "name": "stdout",
     "output_type": "stream",
     "text": [
      "real part of z is 3.0\n",
      "imaginary part of z is 4.0\n"
     ]
    }
   ],
   "source": [
    "z = complex(3,4) #equivalent to 3 + 4j\n",
    "print(\"real part of z is\", z.real)\n",
    "print(\"imaginary part of z is\",z.imag)"
   ]
  },
  {
   "cell_type": "markdown",
   "metadata": {},
   "source": [
    "Arithmetic Operators<br>\n",
    "(table copied from [Python Standard Library, Built-in Types](https://docs.python.org/3/library/stdtypes.html#index-5))\n",
    "| Operation       | Result                                                                      | Notes  | Full documentation |\n",
    "|-----------------|-----------------------------------------------------------------------------|--------|--------------------|\n",
    "| x + y           | sum of x and y                                                              |        |                    |\n",
    "| x - y           | difference of x and y                                                       |        |                    |\n",
    "| x * y           | product of x and y                                                          |        |                    |\n",
    "| x / y           | quotient of x and y                                                         |        |                    |\n",
    "| x // y          | floored quotient of x and y                                                 | (1)(2) |                    |\n",
    "| x % y           | remainder of x / y                                                          | (2)    |                    |\n",
    "| -x              | x negated                                                                   |        |                    |\n",
    "| +x              | x unchanged                                                                 |        |                    |\n",
    "| abs(x)          | absolute value or magnitude of x                                            |        | [abs()](https://docs.python.org/3/library/functions.html#abs)              |\n",
    "| int(x)          | x converted to integer                                                      | (3)(6) | [int()](https://docs.python.org/3/library/functions.html#int)              |\n",
    "| float(x)        | x converted to floating point                                               | (4)(6) | [float()](https://docs.python.org/3/library/functions.html#float)            |\n",
    "| c.conjugate()   | conjugate of the complex number c                                           |        |                    |\n",
    "| divmod(x, y)    | the pair (x // y, x % y)                                                    | (2)    | [divmod()](https://docs.python.org/3/library/functions.html#divmod)           |\n",
    "| pow(x, y)       | x to the power y                                                            | (5)    | [pow()](https://docs.python.org/3/library/functions.html#pow)              |\n",
    "| x ** y          | x to the power y                                                            | (5)    |                    |\n",
    "\n",
    "1. Also referred to as integer division. For operands of type $\\texttt{int}$, the result has type $\\texttt{int}$. For operands of type $\\texttt{float}$, the result has type $\\texttt{float}$. In general, the result is a whole integer, though the result’s type is not necessarily int. The result is always rounded towards minus infinity: $\\texttt{1//2}$ is 0, $\\texttt{(-1)//2}$ is -1, $\\texttt{1//(-2)}$ is -1, and $\\texttt{(-1)//(-2)}$ is 0.\n",
    "\n",
    "2. Not for complex numbers. Instead convert to floats using $\\texttt{abs()}$ if appropriate.\n",
    "\n",
    "3. Conversion from $\\texttt{float}$ to $\\texttt{int}$ truncates, discarding the fractional part. \n",
    "\n",
    "4. float also accepts the strings “$\\texttt{nan}$” and “$\\texttt{inf}$” with an optional prefix “$\\texttt{+}$” or “$\\texttt{-}$” for Not a Number ($\\texttt{NaN}$) and positive or negative infinity.\n",
    "\n",
    "5. Python defines $\\texttt{pow(0, 0)}$ and $\\texttt{0 ** 0}$ to be 1, as is common for programming languages.\n",
    "\n",
    "6. The numeric literals accepted include the digits 0 to 9 or any Unicode equivalent."
   ]
  },
  {
   "cell_type": "code",
   "execution_count": 24,
   "metadata": {},
   "outputs": [
    {
     "name": "stdout",
     "output_type": "stream",
     "text": [
      "a = 11, b = 3, c = -4.15, z = (1.5+0j)\n",
      "a + b = 14\n",
      "a - b = 8\n",
      "a * b = 33\n",
      "a / b = 3.6666666666666665\n",
      "a // b = 3\n",
      "a % b = 2\n",
      "-a = 4.15\n",
      "+a = -4.15\n",
      "abs(a) = 4.15\n",
      "int(a) = -4\n",
      "float(a) = -4.15\n",
      "z.conjugate() = (1.5-0j)\n",
      "divmod(a,b) = (3, 2)\n",
      "a ** b =  1331\n",
      "pow(a,b) =  1331\n"
     ]
    }
   ],
   "source": [
    "a = 11 \n",
    "b = 3 \n",
    "c = -4.15\n",
    "z = complex(1.5)\n",
    "print(f\"a = {a}, b = {b}, c = {c}, z = {z}\")\n",
    "\n",
    "print(f\"a + b = {a + b}\")\n",
    "print(f\"a - b = {a - b}\")\n",
    "print(f\"a * b = {a * b}\")\n",
    "print(f\"a / b = {a / b}\")\n",
    "print(f\"a // b = {a // b}\")\n",
    "print(f\"a % b = {a % b}\")\n",
    "print(f\"-a = {-c}\")\n",
    "print(f\"+a = {+c}\")\n",
    "print(f\"abs(a) = {abs(c)}\")\n",
    "print(f\"int(a) = {int(c)}\")\n",
    "print(f\"float(a) = {float(c)}\")\n",
    "print(f\"z.conjugate() = {z.conjugate()}\")\n",
    "print(f\"divmod(a,b) = {divmod(a,b)}\")\n",
    "print(f\"a ** b =  {a ** b}\")\n",
    "print(f\"pow(a,b) =  {pow(a,b)}\")"
   ]
  },
  {
   "cell_type": "markdown",
   "metadata": {},
   "source": [
    "<[Lesson 2 Contents](#contents)>\n",
    "#### **D. Lists**\n",
    "\n",
    "- sequential data structure\n",
    "- defined using [...]\n",
    "- can hold any tyoe of data"
   ]
  },
  {
   "cell_type": "code",
   "execution_count": 25,
   "metadata": {},
   "outputs": [
    {
     "name": "stdout",
     "output_type": "stream",
     "text": [
      "['Math', 136, ':', 'Introduction', 'to', 'Numerical', 'Analysis']\n",
      "<class 'list'>\n"
     ]
    }
   ],
   "source": [
    "sample_list = [\"Math\", 136, \":\", \"Introduction\", \"to\", \"Numerical\", \"Analysis\"]\n",
    "print(sample_list)\n",
    "print(type(sample_list))"
   ]
  },
  {
   "cell_type": "markdown",
   "metadata": {},
   "source": [
    "<[Lesson 2 Contents](#contents)>\n",
    "#### **E. Tuple**"
   ]
  },
  {
   "cell_type": "markdown",
   "metadata": {},
   "source": [
    "<[Lesson 2 Contents](#contents)>\n",
    "#### **F. Dictionary**"
   ]
  }
 ],
 "metadata": {
  "kernelspec": {
   "display_name": "Python 3",
   "language": "python",
   "name": "python3"
  },
  "language_info": {
   "codemirror_mode": {
    "name": "ipython",
    "version": 3
   },
   "file_extension": ".py",
   "mimetype": "text/x-python",
   "name": "python",
   "nbconvert_exporter": "python",
   "pygments_lexer": "ipython3",
   "version": "3.11.5"
  }
 },
 "nbformat": 4,
 "nbformat_minor": 2
}
